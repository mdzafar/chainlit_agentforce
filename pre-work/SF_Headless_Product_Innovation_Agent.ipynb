{
  "nbformat": 4,
  "nbformat_minor": 0,
  "metadata": {
    "colab": {
      "provenance": []
    },
    "kernelspec": {
      "name": "python3",
      "display_name": "Python 3"
    },
    "language_info": {
      "name": "python"
    }
  },
  "cells": [
    {
      "cell_type": "markdown",
      "source": [
        "Install dependencies and set base URL's"
      ],
      "metadata": {
        "id": "Wl5vsmXA91rT"
      }
    },
    {
      "cell_type": "code",
      "source": [
        "%%capture\n",
        "!pip install gradio"
      ],
      "metadata": {
        "id": "bWNI0eaKboGy"
      },
      "execution_count": 21,
      "outputs": []
    },
    {
      "cell_type": "code",
      "execution_count": 22,
      "metadata": {
        "id": "chSmoJJkuYyC"
      },
      "outputs": [],
      "source": [
        "import requests\n",
        "import json\n",
        "import uuid\n",
        "import datetime\n",
        "import time\n",
        "import gradio as gr\n",
        "\n",
        "from google.colab import userdata\n",
        "\n",
        "\n",
        "BASE_URL = \"https://orgfarm-82bd55ac7d-dev-ed.develop.my.salesforce.com\"\n",
        "AGENT_API_BASE_URL = \"https://api.salesforce.com/einstein/ai-agent/v1\""
      ]
    },
    {
      "cell_type": "markdown",
      "source": [
        "Generate Random UUID"
      ],
      "metadata": {
        "id": "dm4rCHDu9dIz"
      }
    },
    {
      "cell_type": "code",
      "source": [
        "# Generate a random UUID\n",
        "def generate_random_uuid():\n",
        "    return str(uuid.uuid4())"
      ],
      "metadata": {
        "id": "bbWcIYYg9HdZ"
      },
      "execution_count": 23,
      "outputs": []
    },
    {
      "cell_type": "markdown",
      "source": [
        "Generate Timestamp"
      ],
      "metadata": {
        "id": "nXYzxrxyAxkf"
      }
    },
    {
      "cell_type": "code",
      "source": [
        "def get_current_timestamp():\n",
        "    return int(time.time())"
      ],
      "metadata": {
        "id": "4BYRK8p9Av_v"
      },
      "execution_count": 24,
      "outputs": []
    },
    {
      "cell_type": "markdown",
      "source": [
        "Authenticate and get access token"
      ],
      "metadata": {
        "id": "xXVbhD1C9l2H"
      }
    },
    {
      "cell_type": "code",
      "source": [
        "def authenticate():\n",
        "    payload = {\n",
        "        'grant_type': 'client_credentials',\n",
        "        'client_id': userdata.get('CLIENT_ID'),\n",
        "        'client_secret': userdata.get('CLIENT_SECRET')\n",
        "        #'username': 'userdata.get('USERNAME')',\n",
        "        #'password': 'userdata.get('PASSWORD')'\n",
        "    }\n",
        "    response = requests.post(f\"{BASE_URL}/services/oauth2/token\", data=payload)\n",
        "    if response.status_code == 200:\n",
        "        access_token = response.json().get(\"access_token\")\n",
        "        return access_token\n",
        "    else:\n",
        "        return None"
      ],
      "metadata": {
        "id": "4jQ99RWh9AZZ"
      },
      "execution_count": 50,
      "outputs": []
    },
    {
      "cell_type": "markdown",
      "source": [
        "Start a Agent session"
      ],
      "metadata": {
        "id": "mtptLdxH9o6H"
      }
    },
    {
      "cell_type": "code",
      "source": [
        "def start_session():\n",
        "    global global_session_id, global_access_token\n",
        "    access_token = authenticate();\n",
        "    if not access_token:\n",
        "        return \"Authentication failed!\"\n",
        "\n",
        "    global_access_token = access_token;\n",
        "\n",
        "    headers = {\n",
        "        \"Authorization\": f\"Bearer {access_token}\",\n",
        "        \"Content-Type\": \"application/json\"\n",
        "    }\n",
        "    session_payload = {\n",
        "        \"externalSessionKey\": generate_random_uuid(),\n",
        "        \"instanceConfig\": {\n",
        "            \"endpoint\": BASE_URL\n",
        "        },\n",
        "        \"variables\": [],\n",
        "        \"streamingCapabilities\": {\n",
        "            \"chunkTypes\": [\"Text\"]\n",
        "        },\n",
        "        \"bypassUser\": 'false'\n",
        "    }\n",
        "    response = requests.post(f\"{AGENT_API_BASE_URL}/agents/{userdata.get('AGENT_ID')}/sessions\", headers=headers, json=session_payload)\n",
        "    print(response.text)\n",
        "    if response.status_code == 200:\n",
        "        session_id = response.json().get(\"sessionId\")\n",
        "        global_session_id = session_id;\n",
        "        return \"Session started successfully!\"\n",
        "    else:\n",
        "        return \"Failed to start session!\"\n",
        "start_session()"
      ],
      "metadata": {
        "id": "rpRBURTK88Oc",
        "colab": {
          "base_uri": "https://localhost:8080/",
          "height": 73
        },
        "outputId": "bb451915-40ec-46f7-f107-4505d54fb7bc"
      },
      "execution_count": 53,
      "outputs": [
        {
          "output_type": "stream",
          "name": "stdout",
          "text": [
            "{\"sessionId\":\"15a614c2-66e2-4d27-b409-ae8ad9a07212\",\"_links\":{\"self\":null,\"messages\":{\"href\":\"https://api.salesforce.com/einstein/ai-agent/v1/sessions/15a614c2-66e2-4d27-b409-ae8ad9a07212/messages\"},\"messagesStream\":{\"href\":\"https://api.salesforce.com/einstein/ai-agent/v1/sessions/15a614c2-66e2-4d27-b409-ae8ad9a07212/messages/stream\"},\"session\":{\"href\":\"https://api.salesforce.com/einstein/ai-agent/v1/agents/0XxgK000000OrhVSAS/sessions\"},\"end\":{\"href\":\"https://api.salesforce.com/einstein/ai-agent/v1/sessions/15a614c2-66e2-4d27-b409-ae8ad9a07212\"}},\"messages\":[{\"type\":\"Inform\",\"id\":\"9bd800de-97ba-4a44-a37c-87dd53149c91\",\"metrics\":{},\"feedbackId\":\"\",\"planId\":\"\",\"isContentSafe\":true,\"message\":\"Hi, I’m Agentforce! I use AI to search trusted sources, and more. Ask me “What else can you do?” to see how I can simplify your workday. How can I help?\",\"result\":[],\"citedReferences\":[]}]}\n"
          ]
        },
        {
          "output_type": "execute_result",
          "data": {
            "text/plain": [
              "'Session started successfully!'"
            ],
            "application/vnd.google.colaboratory.intrinsic+json": {
              "type": "string"
            }
          },
          "metadata": {},
          "execution_count": 53
        }
      ]
    },
    {
      "cell_type": "markdown",
      "source": [
        "Send synchronous message to Agent"
      ],
      "metadata": {
        "id": "RBynqO6o9vDR"
      }
    },
    {
      "cell_type": "code",
      "source": [
        "def send_synchronous_message(message):\n",
        "\n",
        "    headers = {\n",
        "        \"Authorization\": f\"Bearer {global_access_token}\",\n",
        "        \"Content-Type\": \"application/json\"\n",
        "    }\n",
        "\n",
        "    message_payload = {\n",
        "        \"message\": {\n",
        "            \"sequenceId\": get_current_timestamp(),\n",
        "            \"type\": \"Text\",\n",
        "            \"text\": message\n",
        "          },\n",
        "        \"variables\": []\n",
        "    }\n",
        "\n",
        "    response = requests.post(f\"{AGENT_API_BASE_URL}/sessions/{global_session_id}/messages\", headers=headers, json=message_payload)\n",
        "\n",
        "    if response.status_code == 200:\n",
        "      message_data = response.json();\n",
        "      return message_data[\"messages\"][0][\"message\"]\n",
        "    else:\n",
        "      return \"Failed to send synchronous message!\""
      ],
      "metadata": {
        "id": "rOOxszLo84lM"
      },
      "execution_count": 54,
      "outputs": []
    },
    {
      "cell_type": "markdown",
      "source": [
        "Send message stream to Agent"
      ],
      "metadata": {
        "id": "7ffgKO76FCrr"
      }
    },
    {
      "cell_type": "code",
      "source": [
        "def send_message_stream(message):\n",
        "\n",
        "    headers = {\n",
        "        \"Authorization\": f\"Bearer {global_access_token}\",\n",
        "        \"Content-Type\": \"application/json\"\n",
        "    }\n",
        "\n",
        "    message_payload = {\n",
        "        \"message\": {\n",
        "          \"sequenceId\": get_current_timestamp(),\n",
        "          \"type\": \"Text\",\n",
        "          \"text\": message\n",
        "        },\n",
        "      \"variables\": []\n",
        "    }\n",
        "\n",
        "    response = requests.post(f\"{AGENT_API_BASE_URL}/sessions/{global_session_id}/messages/stream\", headers=headers, json=message_payload, stream=True)\n",
        "    result = \"\"\n",
        "    if response.status_code == 200:\n",
        "        for chunk in response.iter_content(chunk_size=None):\n",
        "            if chunk:\n",
        "                result += chunk.decode(\"utf-8\") + \"\\n\"\n",
        "    else:\n",
        "        result = \"Failed to send message stream!\"\n",
        "\n",
        "    return result"
      ],
      "metadata": {
        "id": "aKkjIG9rE-Io"
      },
      "execution_count": 55,
      "outputs": []
    },
    {
      "cell_type": "markdown",
      "source": [
        "End Session"
      ],
      "metadata": {
        "id": "5M4aphWaUCy7"
      }
    },
    {
      "cell_type": "code",
      "source": [
        "def end_session():\n",
        "    headers = {\n",
        "        \"Authorization\": f\"Bearer {global_access_token}\",\n",
        "        \"x-session-end-reason\": \"UserRequest\"\n",
        "    }\n",
        "    response = requests.delete(f\"{AGENT_API_BASE_URL}/sessions/{global_session_id}\", headers=headers)\n",
        "    if response.status_code == 200:\n",
        "        global_session_id = None\n",
        "        global_access_token = None\n",
        "        return \"Session ended successfully!\"\n",
        "    else:\n",
        "        return \"Failed to end session!\""
      ],
      "metadata": {
        "id": "OYQxFPpTT-21"
      },
      "execution_count": 56,
      "outputs": []
    },
    {
      "cell_type": "markdown",
      "source": [
        "Gradio Interface for Synchronous Messages"
      ],
      "metadata": {
        "id": "dG1Ou7TLV18K"
      }
    },
    {
      "cell_type": "code",
      "source": [
        "def gradio_sync_ui():\n",
        "    with gr.Blocks() as sync_demo:\n",
        "        gr.Markdown(\"## SF Headless Agent API - Sync Message\")\n",
        "        start_button = gr.Button(\"Start Session\")\n",
        "        input_text = gr.Textbox(label=\"Enter your message\")\n",
        "        sync_button = gr.Button(\"Send Sync Message\")\n",
        "        output_text = gr.Textbox(label=\"Response\")\n",
        "        end_button = gr.Button(\"End Session\")\n",
        "\n",
        "        start_button.click(start_session, outputs=output_text)\n",
        "        sync_button.click(send_synchronous_message, inputs=input_text, outputs=output_text)\n",
        "        end_button.click(end_session, outputs=output_text)\n",
        "\n",
        "    return sync_demo"
      ],
      "metadata": {
        "id": "uzYgAvq2VbEZ"
      },
      "execution_count": 58,
      "outputs": []
    },
    {
      "cell_type": "markdown",
      "source": [
        "Gradio Interface for Streaming Messages"
      ],
      "metadata": {
        "id": "QnvXx8-LV769"
      }
    },
    {
      "cell_type": "code",
      "source": [
        "def gradio_stream_ui():\n",
        "    with gr.Blocks() as stream_demo:\n",
        "        gr.Markdown(\"## SF Headless Agent - Stream Message\")\n",
        "        start_button = gr.Button(\"Start Session\")\n",
        "        input_text = gr.Textbox(label=\"Enter your message\")\n",
        "        stream_button = gr.Button(\"Send Stream Message\")\n",
        "        output_text = gr.Textbox(label=\"Stream Response\")\n",
        "        end_button = gr.Button(\"End Session\")\n",
        "\n",
        "        start_button.click(start_session, outputs=output_text)\n",
        "        stream_button.click(send_message_stream, inputs=input_text, outputs=output_text)\n",
        "        end_button.click(end_session, outputs=output_text)\n",
        "\n",
        "    return stream_demo"
      ],
      "metadata": {
        "id": "Zg8ewUkZ9Pe7"
      },
      "execution_count": 59,
      "outputs": []
    },
    {
      "cell_type": "markdown",
      "source": [
        "Sync Message - Run Gradio apps in Colab"
      ],
      "metadata": {
        "id": "HVN8kUJ7aFPj"
      }
    },
    {
      "cell_type": "code",
      "source": [
        "demo_sync = gradio_sync_ui()\n",
        "demo_sync.launch()"
      ],
      "metadata": {
        "colab": {
          "base_uri": "https://localhost:8080/",
          "height": 646
        },
        "id": "RLSpnLsWZ-Ox",
        "outputId": "687eadbf-44bb-4f17-a38e-b2e0393b9fe3"
      },
      "execution_count": 60,
      "outputs": [
        {
          "output_type": "stream",
          "name": "stdout",
          "text": [
            "It looks like you are running Gradio on a hosted a Jupyter notebook. For the Gradio app to work, sharing must be enabled. Automatically setting `share=True` (you can turn this off by setting `share=False` in `launch()` explicitly).\n",
            "\n",
            "Colab notebook detected. To show errors in colab notebook, set debug=True in launch()\n",
            "* Running on public URL: https://c48df7ed9d8169bb4b.gradio.live\n",
            "\n",
            "This share link expires in 1 week. For free permanent hosting and GPU upgrades, run `gradio deploy` from the terminal in the working directory to deploy to Hugging Face Spaces (https://huggingface.co/spaces)\n"
          ]
        },
        {
          "output_type": "display_data",
          "data": {
            "text/plain": [
              "<IPython.core.display.HTML object>"
            ],
            "text/html": [
              "<div><iframe src=\"https://c48df7ed9d8169bb4b.gradio.live\" width=\"100%\" height=\"500\" allow=\"autoplay; camera; microphone; clipboard-read; clipboard-write;\" frameborder=\"0\" allowfullscreen></iframe></div>"
            ]
          },
          "metadata": {}
        },
        {
          "output_type": "execute_result",
          "data": {
            "text/plain": []
          },
          "metadata": {},
          "execution_count": 60
        }
      ]
    },
    {
      "cell_type": "markdown",
      "source": [
        "Stream Message - Run Gradio apps in Colab"
      ],
      "metadata": {
        "id": "GTmVu2C0e1hN"
      }
    },
    {
      "cell_type": "code",
      "source": [
        "demo_sync = gradio_stream_ui()\n",
        "demo_sync.launch()"
      ],
      "metadata": {
        "id": "1FeJbgxoetW0",
        "colab": {
          "base_uri": "https://localhost:8080/",
          "height": 646
        },
        "outputId": "3ec47703-e545-43a4-a3f1-77348f2422ad"
      },
      "execution_count": 33,
      "outputs": [
        {
          "output_type": "stream",
          "name": "stdout",
          "text": [
            "It looks like you are running Gradio on a hosted a Jupyter notebook. For the Gradio app to work, sharing must be enabled. Automatically setting `share=True` (you can turn this off by setting `share=False` in `launch()` explicitly).\n",
            "\n",
            "Colab notebook detected. To show errors in colab notebook, set debug=True in launch()\n",
            "* Running on public URL: https://481445352fc1743d25.gradio.live\n",
            "\n",
            "This share link expires in 1 week. For free permanent hosting and GPU upgrades, run `gradio deploy` from the terminal in the working directory to deploy to Hugging Face Spaces (https://huggingface.co/spaces)\n"
          ]
        },
        {
          "output_type": "display_data",
          "data": {
            "text/plain": [
              "<IPython.core.display.HTML object>"
            ],
            "text/html": [
              "<div><iframe src=\"https://481445352fc1743d25.gradio.live\" width=\"100%\" height=\"500\" allow=\"autoplay; camera; microphone; clipboard-read; clipboard-write;\" frameborder=\"0\" allowfullscreen></iframe></div>"
            ]
          },
          "metadata": {}
        },
        {
          "output_type": "execute_result",
          "data": {
            "text/plain": []
          },
          "metadata": {},
          "execution_count": 33
        }
      ]
    }
  ]
}